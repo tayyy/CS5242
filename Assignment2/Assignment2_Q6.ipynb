{
 "cells": [
  {
   "cell_type": "code",
   "execution_count": 6,
   "metadata": {},
   "outputs": [
    {
     "name": "stdout",
     "output_type": "stream",
     "text": [
      "Receptive field of S.No 1 = 8x8\n",
      "Receptive field of S.No 2 = 26x26\n",
      "Receptive field of S.No 3 = 15x15\n",
      "Receptive field of S.No 4 = 27x27\n",
      "Receptive field of S.No 5 = 20x20\n",
      "Receptive field of S.No 6 = 147x147\n",
      "Receptive field of S.No 7 = 282x282\n",
      "Receptive field of S.No 8 = 18x18\n",
      "Receptive field of S.No 9 = 18x18\n",
      "Receptive field of S.No 10 = 91x91\n"
     ]
    }
   ],
   "source": [
    "#1\n",
    "k = [[3,3,1,2,2],[3,2,2,2,3],[5,3,4,2,3],[7,5,3,3,1],[4,3,2,3,2],[7,5,2,5,7],[3,2,5,3,5],[4,2,3,1,2],[4,2,3,1,2],[11,7,2,5,3]]\n",
    "s = [[1,1,1,2,2],[1,2,2,2,1],[1,1,1,2,1],[2,1,2,1,1],[1,2,2,1,2],[2,2,2,2,2],[3,2,3,3,1],[2,2,1,1,1],[2,2,1,1,1],[2,2,2,2,1]]\n",
    "s = [[1,1,1,2,1],[1,2,2,2,1],[1,1,1,2,1],[2,1,2,1,1],[1,2,2,1,1],[2,2,2,2,1],[3,2,3,3,1],[2,2,1,1,1],[2,2,1,1,1],[2,2,2,2,1]]\n",
    "o = [8,26,15,]\n",
    "for Q in range(0,10,1):\n",
    "    RH,RW=1,1\n",
    "    for layer in range(4,-1,-1):\n",
    "        RH=(RW*s[Q][layer])+(k[Q][layer]-s[Q][layer])\n",
    "        RW=(RW*s[Q][layer])+(k[Q][layer]-s[Q][layer])\n",
    "    print (f\"Receptive field of S.No {Q+1} = {RH}x{RW}\")\n",
    "     "
   ]
  },
  {
   "cell_type": "markdown",
   "metadata": {},
   "source": []
  }
 ],
 "metadata": {
  "kernelspec": {
   "display_name": "Python 3",
   "language": "python",
   "name": "python3"
  },
  "language_info": {
   "codemirror_mode": {
    "name": "ipython",
    "version": 3
   },
   "file_extension": ".py",
   "mimetype": "text/x-python",
   "name": "python",
   "nbconvert_exporter": "python",
   "pygments_lexer": "ipython3",
   "version": "3.10.2"
  },
  "orig_nbformat": 4
 },
 "nbformat": 4,
 "nbformat_minor": 2
}
